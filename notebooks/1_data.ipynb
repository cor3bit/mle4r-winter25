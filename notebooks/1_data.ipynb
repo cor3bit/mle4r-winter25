{
  "nbformat": 4,
  "nbformat_minor": 0,
  "metadata": {
    "colab": {
      "provenance": [],
      "toc_visible": true
    },
    "kernelspec": {
      "name": "python3",
      "display_name": "Python 3"
    },
    "language_info": {
      "name": "python"
    }
  },
  "cells": [
    {
      "cell_type": "markdown",
      "source": [
        "# Data"
      ],
      "metadata": {
        "id": "7_PA03GbeyIG"
      }
    },
    {
      "cell_type": "markdown",
      "source": [
        "## Load Data From Anywhere"
      ],
      "metadata": {
        "id": "ZNP3CvLjeyS5"
      }
    },
    {
      "cell_type": "markdown",
      "source": [
        "Install the required packages"
      ],
      "metadata": {
        "id": "SHFmRS8zeyVa"
      }
    },
    {
      "cell_type": "code",
      "source": [
        "%%capture\n",
        "%pip install datasets libsvmdata"
      ],
      "metadata": {
        "id": "Q30A61o_e4Ub"
      },
      "execution_count": null,
      "outputs": []
    },
    {
      "cell_type": "markdown",
      "source": [
        "Define the imports"
      ],
      "metadata": {
        "id": "ji1Y9b6efPGe"
      }
    },
    {
      "cell_type": "code",
      "source": [
        "import os\n",
        "\n",
        "import numpy as np\n",
        "import matplotlib.pyplot as plt\n",
        "\n",
        "import sklearn.datasets as skdata\n",
        "import libsvmdata\n",
        "import tensorflow as tf\n",
        "import tensorflow_datasets as tfds\n",
        "import datasets"
      ],
      "metadata": {
        "id": "EtWrCIJde4W0"
      },
      "execution_count": null,
      "outputs": []
    },
    {
      "cell_type": "markdown",
      "source": [
        "### Simple dataset"
      ],
      "metadata": {
        "id": "PuFX0VcgfZyj"
      }
    },
    {
      "cell_type": "code",
      "source": [
        "def load_data(dataset_id):\n",
        "    if dataset_id == 'my_dataset':\n",
        "        x = np.random.randn(100, 10)\n",
        "        y = np.random.randint(0, 2, 100)\n",
        "        return x, y\n",
        "    else:\n",
        "        raise ValueError(f'Unknown dataset_id: {dataset_id}')"
      ],
      "metadata": {
        "id": "wigt9UEgfcVo"
      },
      "execution_count": null,
      "outputs": []
    },
    {
      "cell_type": "code",
      "source": [
        "np.random.seed(1337)\n",
        "\n",
        "dataset_id = 'my_dataset'\n",
        "x, y = load_data(dataset_id)\n",
        "\n",
        "x.shape, y.shape\n"
      ],
      "metadata": {
        "id": "wJ8CjXvHfevy"
      },
      "execution_count": null,
      "outputs": []
    },
    {
      "cell_type": "markdown",
      "source": [
        "### Scikit-learn"
      ],
      "metadata": {
        "id": "ElEdHfkqgccN"
      }
    },
    {
      "cell_type": "markdown",
      "source": [
        "Web: https://scikit-learn.org/stable/datasets.html"
      ],
      "metadata": {
        "id": "Lk1DWENyjmFn"
      }
    },
    {
      "cell_type": "markdown",
      "source": [
        "Sklearn tabular"
      ],
      "metadata": {
        "id": "MOrozRS7ftnv"
      }
    },
    {
      "cell_type": "code",
      "source": [
        "# \"load\" - load small standard datasets\n",
        "# \"fetch\" - download and load a dataset\n",
        "\n",
        "iris = skdata.load_iris()  # small tabular dataset\n",
        "x, y = iris.data, iris.target"
      ],
      "metadata": {
        "id": "cPd-uaQhfu6J"
      },
      "execution_count": null,
      "outputs": []
    },
    {
      "cell_type": "code",
      "source": [
        "x[:5,:], y[:5]"
      ],
      "metadata": {
        "id": "UggLn3edfzIf"
      },
      "execution_count": null,
      "outputs": []
    },
    {
      "cell_type": "markdown",
      "source": [
        "Sklearn text"
      ],
      "metadata": {
        "id": "APbhi9GIgDWr"
      }
    },
    {
      "cell_type": "code",
      "source": [
        "news = skdata.fetch_20newsgroups() # text dataset\n",
        "x, y = news.data, news.target"
      ],
      "metadata": {
        "id": "y5Yjg4eOgE-h"
      },
      "execution_count": null,
      "outputs": []
    },
    {
      "cell_type": "code",
      "source": [
        "x[:2]"
      ],
      "metadata": {
        "id": "RAuU25ZSgLRF"
      },
      "execution_count": null,
      "outputs": []
    },
    {
      "cell_type": "code",
      "source": [
        "y[:2]"
      ],
      "metadata": {
        "id": "zjf61CoCgOv6"
      },
      "execution_count": null,
      "outputs": []
    },
    {
      "cell_type": "markdown",
      "source": [
        "### LibSVM"
      ],
      "metadata": {
        "id": "CgVF8wMYge9s"
      }
    },
    {
      "cell_type": "markdown",
      "source": [
        "Web: https://www.csie.ntu.edu.tw/~cjlin/libsvmtools/datasets/"
      ],
      "metadata": {
        "id": "2O3uqfBqj0ob"
      }
    },
    {
      "cell_type": "code",
      "source": [
        "# Beware of the format of the data! Here, sparse data is returned\n",
        "x, y = libsvmdata.fetch_libsvm('a9a', normalize=True, verbose=True)"
      ],
      "metadata": {
        "id": "9QecA8Yng5Za"
      },
      "execution_count": null,
      "outputs": []
    },
    {
      "cell_type": "code",
      "source": [
        "type(x)"
      ],
      "metadata": {
        "id": "apxD1eALg9e1"
      },
      "execution_count": null,
      "outputs": []
    },
    {
      "cell_type": "code",
      "source": [
        "x = x.toarray()"
      ],
      "metadata": {
        "id": "8p1UXckbhB6a"
      },
      "execution_count": null,
      "outputs": []
    },
    {
      "cell_type": "code",
      "source": [
        "x[:2,:5]"
      ],
      "metadata": {
        "id": "dfyHgpCYhFS3"
      },
      "execution_count": null,
      "outputs": []
    },
    {
      "cell_type": "code",
      "source": [
        "y"
      ],
      "metadata": {
        "id": "oxrVqQfGhnhw"
      },
      "execution_count": null,
      "outputs": []
    },
    {
      "cell_type": "code",
      "source": [
        "# encode labels since libsvm returns smth like [-1, 1] or [1, 2, 3, ...]\n",
        "from sklearn.preprocessing import LabelEncoder\n",
        "y = LabelEncoder().fit_transform(y)"
      ],
      "metadata": {
        "id": "H0XBVZsqhtbs"
      },
      "execution_count": null,
      "outputs": []
    },
    {
      "cell_type": "code",
      "source": [
        "y"
      ],
      "metadata": {
        "id": "IEHNERc8h0hE"
      },
      "execution_count": null,
      "outputs": []
    },
    {
      "cell_type": "markdown",
      "source": [
        "### TensorFlow DataSets"
      ],
      "metadata": {
        "id": "JQc45Q6-h3ui"
      }
    },
    {
      "cell_type": "markdown",
      "source": [
        "Web: https://www.tensorflow.org/datasets/catalog/overview"
      ],
      "metadata": {
        "id": "xuGRFVF9j5c0"
      }
    },
    {
      "cell_type": "code",
      "source": [
        "tf.config.set_visible_devices([], device_type='GPU')  # \"conceal\" GPUs from TFDS\n",
        "\n",
        "data, info = tfds.load(\n",
        "    name='mnist',\n",
        "    split=['train', ],\n",
        "    batch_size=-1,\n",
        "    shuffle_files=False,\n",
        "    as_supervised=True,\n",
        "    with_info=True,\n",
        ")"
      ],
      "metadata": {
        "id": "ATBWw3_piExS"
      },
      "execution_count": null,
      "outputs": []
    },
    {
      "cell_type": "code",
      "source": [
        "# Beware of the format of the data! Here, tensors are returned\n",
        "data = tfds.as_numpy(data)\n",
        "x, y = data[0]"
      ],
      "metadata": {
        "id": "J9gf8N9jiUg7"
      },
      "execution_count": null,
      "outputs": []
    },
    {
      "cell_type": "code",
      "source": [
        "x[0].shape"
      ],
      "metadata": {
        "id": "C357g_n1iWjn"
      },
      "execution_count": null,
      "outputs": []
    },
    {
      "cell_type": "code",
      "source": [
        "plt.imshow(x[0], cmap='gray')"
      ],
      "metadata": {
        "id": "ACV1V9JmilBA"
      },
      "execution_count": null,
      "outputs": []
    },
    {
      "cell_type": "markdown",
      "source": [
        "### HuggingFace Datasets"
      ],
      "metadata": {
        "id": "x2hI3ijGjFYY"
      }
    },
    {
      "cell_type": "markdown",
      "source": [
        "Web: https://huggingface.co/datasets"
      ],
      "metadata": {
        "id": "D4GSuJehjJKB"
      }
    },
    {
      "cell_type": "code",
      "source": [
        "data = datasets.load_dataset(\n",
        "    'lizziepikachu/starwars_planets',\n",
        "    # cache_dir=data_folder,\n",
        ")"
      ],
      "metadata": {
        "id": "uqsSuwcZjJiA"
      },
      "execution_count": null,
      "outputs": []
    },
    {
      "cell_type": "code",
      "source": [
        "data"
      ],
      "metadata": {
        "id": "MpQ4-tuYjQ-N"
      },
      "execution_count": null,
      "outputs": []
    },
    {
      "cell_type": "code",
      "source": [
        "\n",
        "df = data['train'].to_pandas()\n",
        "df.head()"
      ],
      "metadata": {
        "id": "KhenUalKjL8B"
      },
      "execution_count": null,
      "outputs": []
    },
    {
      "cell_type": "code",
      "source": [
        "y = df['population'].to_numpy()\n",
        "x = df.drop(columns=['population']).to_numpy()"
      ],
      "metadata": {
        "id": "f-sZ6WVQjaFI"
      },
      "execution_count": null,
      "outputs": []
    },
    {
      "cell_type": "code",
      "source": [
        "x[:5]"
      ],
      "metadata": {
        "id": "SvBMkCrOjcTL"
      },
      "execution_count": null,
      "outputs": []
    },
    {
      "cell_type": "markdown",
      "source": [
        "### Resume\n",
        "- data laoding signatures are more or less the same;\n",
        "- always check the type and range of the returned values;\n",
        "- more often than not everything can be converted to NumPy arrays."
      ],
      "metadata": {
        "id": "M9kZ8017TMeC"
      }
    },
    {
      "cell_type": "markdown",
      "source": [
        "## DataLoader Class"
      ],
      "metadata": {
        "id": "C2HrczoOkKmj"
      }
    },
    {
      "cell_type": "markdown",
      "source": [
        "Needed for\n",
        "* Batching: load multiple samples at once to optimize GPU usage;\n",
        "* Shuffling: prevent model overfitting to specific sequences;\n",
        "* Streaming: load large datasets efficiently from disk;\n",
        "* Preprocessing on the Fly: apply transformations while loading."
      ],
      "metadata": {
        "id": "bJG2oToukUYo"
      }
    },
    {
      "cell_type": "markdown",
      "source": [
        "### Simple Dataloader"
      ],
      "metadata": {
        "id": "uEhjqz0QkM5j"
      }
    },
    {
      "cell_type": "code",
      "source": [
        "class SimpleDataLoader:\n",
        "    def __init__(self, x, y, batch_size):\n",
        "        self.x = x\n",
        "        self.y = y\n",
        "        self.batch_size = batch_size\n",
        "        self.n = len(x)\n",
        "        self.indices = np.arange(self.n)\n",
        "\n",
        "    # makes this class iterable\n",
        "    def __iter__(self):\n",
        "        for i in range(0, self.n, self.batch_size):\n",
        "            batch_indices = self.indices[i:i + self.batch_size]\n",
        "            yield self.x[batch_indices], self.y[batch_indices]"
      ],
      "metadata": {
        "id": "rkC8LEAekcYu"
      },
      "execution_count": null,
      "outputs": []
    },
    {
      "cell_type": "markdown",
      "source": [
        "What is this `yield` in Python? Known as a **generator**, `yield` is a special kind of iterator that allows to pause and resume execution.  \n",
        "\n",
        "Difference Between `return` and `yield`:\n",
        "- `return` **stops** the function and returns a value.\n",
        "- `yield` **pauses** the function and lets it resume later."
      ],
      "metadata": {
        "id": "0xeQ8CxlTtdj"
      }
    },
    {
      "cell_type": "code",
      "source": [
        "batch_size = 4\n",
        "dataloader = SimpleDataLoader(x, y, batch_size)\n",
        "\n",
        "i = 0\n",
        "for x_batch, y_batch in dataloader:\n",
        "    if i==2:\n",
        "      break\n",
        "\n",
        "    # do something with the batch\n",
        "    print(f'Planets in the batch: {x_batch[:,0]}')\n",
        "\n",
        "    i += 1"
      ],
      "metadata": {
        "id": "mVQ1TJ4ykMYN"
      },
      "execution_count": null,
      "outputs": []
    },
    {
      "cell_type": "markdown",
      "source": [
        "### TFDS DataLoader"
      ],
      "metadata": {
        "id": "aMqYXzVZpjSu"
      }
    },
    {
      "cell_type": "markdown",
      "source": [
        "Signature: https://www.tensorflow.org/datasets/api_docs/python/tfds/load"
      ],
      "metadata": {
        "id": "ULIyXeULWP9Q"
      }
    },
    {
      "cell_type": "code",
      "source": [
        "# restrict TF from grabbing resources\n",
        "tf.config.set_visible_devices([], device_type='GPU')\n",
        "\n",
        "# Train Set: Batch approach\n",
        "train_loader, info = tfds.load(\n",
        "    \"cifar10\",\n",
        "    split=\"train\",\n",
        "    as_supervised=True,\n",
        "    with_info=True,\n",
        "    # data_dir=data_dir,\n",
        ")\n",
        "\n",
        "num_classes = info.features[\"label\"].num_classes\n",
        "img_size = info.features[\"image\"].shape\n",
        "n_samples = info.splits[\"train\"].num_examples"
      ],
      "metadata": {
        "id": "QUCzpe3fpFFX"
      },
      "execution_count": null,
      "outputs": []
    },
    {
      "cell_type": "code",
      "source": [
        "img_size, n_samples"
      ],
      "metadata": {
        "id": "lun28oFEpt3n"
      },
      "execution_count": null,
      "outputs": []
    },
    {
      "cell_type": "code",
      "source": [
        "x_batched, y_batched = next(iter(train_loader))"
      ],
      "metadata": {
        "id": "GnVQ3gvwqeSV"
      },
      "execution_count": null,
      "outputs": []
    },
    {
      "cell_type": "code",
      "source": [
        "x_batched.shape"
      ],
      "metadata": {
        "id": "hf1AReavqqA-"
      },
      "execution_count": null,
      "outputs": []
    },
    {
      "cell_type": "code",
      "source": [
        "plt.imshow(x_batched)"
      ],
      "metadata": {
        "id": "praWfMkTqg_8"
      },
      "execution_count": null,
      "outputs": []
    },
    {
      "cell_type": "code",
      "source": [
        "def augment(image, label):\n",
        "    # recommended augmentation from https://optax.readthedocs.io/en/latest/_collections/examples/cifar10_resnet.html\n",
        "    image = tf.image.resize_with_crop_or_pad(image, 40, 40)\n",
        "    image = tf.image.random_crop(image, [32, 32, 3])\n",
        "    image = tf.image.random_flip_left_right(image)\n",
        "    image = tf.image.random_brightness(image, max_delta=0.2)\n",
        "    image = tf.image.random_contrast(image, 0.8, 1.2)\n",
        "    image = tf.image.random_saturation(image, 0.8, 1.2)\n",
        "    return image, label\n",
        "\n",
        "batch_size = 8\n",
        "seed = 1337\n",
        "\n",
        "train_loader_batched = train_loader.map(augment).shuffle(\n",
        "    buffer_size=10_000,  # 1/5 of the dataset\n",
        "    reshuffle_each_iteration=True,\n",
        "    seed=seed,\n",
        ").batch(batch_size, drop_remainder=True).prefetch(tf.data.AUTOTUNE)"
      ],
      "metadata": {
        "id": "uXjk07FPpUpa"
      },
      "execution_count": null,
      "outputs": []
    },
    {
      "cell_type": "code",
      "source": [
        "x_batched, y_batched = next(iter(train_loader_batched))"
      ],
      "metadata": {
        "id": "HJC7_1kqpv7R"
      },
      "execution_count": null,
      "outputs": []
    },
    {
      "cell_type": "code",
      "source": [
        "x_batched.shape\n"
      ],
      "metadata": {
        "id": "PutlLroxqIcd"
      },
      "execution_count": null,
      "outputs": []
    },
    {
      "cell_type": "code",
      "source": [
        "plt.imshow(x_batched[1])"
      ],
      "metadata": {
        "id": "71Tf0oQIqTpB"
      },
      "execution_count": null,
      "outputs": []
    },
    {
      "cell_type": "markdown",
      "source": [
        "## Data Processing"
      ],
      "metadata": {
        "id": "Wv1Nh5GUq-9m"
      }
    },
    {
      "cell_type": "markdown",
      "source": [
        "Let's go back to text data that is the focus of our project."
      ],
      "metadata": {
        "id": "unuK1UElrI68"
      }
    },
    {
      "cell_type": "code",
      "source": [
        "ds = tfds.load(\"tiny_shakespeare\")"
      ],
      "metadata": {
        "id": "aU61Y928rN3i"
      },
      "execution_count": null,
      "outputs": []
    },
    {
      "cell_type": "code",
      "source": [
        "# combine train and test examples into a single string\n",
        "text_train = \"\"\n",
        "for example in ds[\"train\"].concatenate(ds[\"test\"]).as_numpy_iterator():\n",
        "    text_train += example[\"text\"].decode(\"utf-8\")\n",
        "\n",
        "# similarly, create a single string for validation\n",
        "text_validation = \"\"\n",
        "for example in ds[\"validation\"].as_numpy_iterator():\n",
        "    text_validation += example[\"text\"].decode(\"utf-8\")"
      ],
      "metadata": {
        "id": "Cjq9uZsDtkeW"
      },
      "execution_count": null,
      "outputs": []
    },
    {
      "cell_type": "code",
      "source": [
        "text_train[:100]"
      ],
      "metadata": {
        "id": "hg0RMc1pt7sl"
      },
      "execution_count": null,
      "outputs": []
    },
    {
      "cell_type": "markdown",
      "source": [
        "### Text Encoding: Character-level"
      ],
      "metadata": {
        "id": "ExuIvftGuCMD"
      }
    },
    {
      "cell_type": "code",
      "source": [
        "vocab = sorted(list(set(text_train)))"
      ],
      "metadata": {
        "id": "u2s9qUZAtmRY"
      },
      "execution_count": null,
      "outputs": []
    },
    {
      "cell_type": "code",
      "source": [
        "print(vocab)"
      ],
      "metadata": {
        "id": "0Tv6-vX5trpF"
      },
      "execution_count": null,
      "outputs": []
    },
    {
      "cell_type": "code",
      "source": [
        "# create a mapping from characters to integers\n",
        "stoi = {ch: i for i, ch in enumerate(vocab)}\n",
        "itos = {i: ch for i, ch in enumerate(vocab)}\n",
        "encode = lambda s: [\n",
        "    stoi[c] for c in s\n",
        "]  # encoder: take a string, output a list of integers\n",
        "decode = lambda l: \"\".join(\n",
        "    [itos[i] for i in l]\n",
        ")  # decoder: take a list of integers, output a string"
      ],
      "metadata": {
        "id": "10pDBMOvwcXY"
      },
      "execution_count": null,
      "outputs": []
    },
    {
      "cell_type": "code",
      "source": [
        "train_data = encode(text_train)"
      ],
      "metadata": {
        "id": "YZjv3f06wgnn"
      },
      "execution_count": null,
      "outputs": []
    },
    {
      "cell_type": "code",
      "source": [
        "text_train[:15]"
      ],
      "metadata": {
        "id": "_roGzkGNw3I_"
      },
      "execution_count": null,
      "outputs": []
    },
    {
      "cell_type": "code",
      "source": [
        "train_data[:15]"
      ],
      "metadata": {
        "id": "2drVnzZWwx1x"
      },
      "execution_count": null,
      "outputs": []
    },
    {
      "cell_type": "code",
      "source": [
        "decode(train_data[:15])"
      ],
      "metadata": {
        "id": "qpKT9HKFxD9w"
      },
      "execution_count": null,
      "outputs": []
    },
    {
      "cell_type": "markdown",
      "source": [
        "### Text Encoding: Subword-based - Byte pair encoding (BPE)"
      ],
      "metadata": {
        "id": "ldIGrvs7vlDw"
      }
    },
    {
      "cell_type": "markdown",
      "source": [
        "Web: https://github.com/openai/tiktoken"
      ],
      "metadata": {
        "id": "rlhEg0zRvp76"
      }
    },
    {
      "cell_type": "code",
      "source": [
        "%%capture\n",
        "%pip install tiktoken"
      ],
      "metadata": {
        "id": "Yl7yuVijxkix"
      },
      "execution_count": null,
      "outputs": []
    },
    {
      "cell_type": "code",
      "source": [
        "from tiktoken._educational import *\n",
        "\n",
        "enc = SimpleBytePairEncoding.from_tiktoken(\"cl100k_base\")"
      ],
      "metadata": {
        "id": "YkWJ_K_1xlBB"
      },
      "execution_count": null,
      "outputs": []
    },
    {
      "cell_type": "code",
      "source": [
        "enc.encode(text_train[:15])"
      ],
      "metadata": {
        "id": "BCoq0PFYx6PN"
      },
      "execution_count": null,
      "outputs": []
    },
    {
      "cell_type": "code",
      "source": [
        "enc.decode([5451])"
      ],
      "metadata": {
        "id": "oaZRuR6kyPD3"
      },
      "execution_count": null,
      "outputs": []
    },
    {
      "cell_type": "code",
      "source": [
        "aa = enc.encode(\"aardvark\")"
      ],
      "metadata": {
        "id": "4IKS9J352Et8"
      },
      "execution_count": null,
      "outputs": []
    },
    {
      "cell_type": "code",
      "source": [
        "for subword in aa:\n",
        "   print(enc.decode([subword]))"
      ],
      "metadata": {
        "id": "tEnfVrQe2dMA"
      },
      "execution_count": null,
      "outputs": []
    },
    {
      "cell_type": "markdown",
      "source": [
        "https://en.wikipedia.org/wiki/Aardvark#/media/File:Orycteropus_afer_175359469.jpg"
      ],
      "metadata": {
        "id": "XyDVpLac29cS"
      }
    },
    {
      "cell_type": "markdown",
      "source": [
        "Still remember the news dataset? Let's try to encode it!"
      ],
      "metadata": {
        "id": "YxpV2320OE0-"
      }
    },
    {
      "cell_type": "code",
      "source": [
        "news_all_in_one = '\\n'.join(news.data)"
      ],
      "metadata": {
        "id": "nBRJ_Tv_OFyR"
      },
      "execution_count": null,
      "outputs": []
    },
    {
      "cell_type": "code",
      "source": [
        "import sys\n",
        "\n",
        "def human_readable_size(size, decimal_places=2):\n",
        "    for unit in ['B', 'KB', 'MB', 'GB', 'TB']:\n",
        "        if size < 1024.0:\n",
        "            return f\"{size:.{decimal_places}f} {unit}\"\n",
        "        size /= 1024.0\n",
        "    return f\"{size:.{decimal_places}f} PB\"\n",
        "\n",
        "size_in_bytes = sys.getsizeof(news_all_in_one)\n",
        "\n",
        "human_readable_size(size_in_bytes)\n"
      ],
      "metadata": {
        "id": "8tOR4bxnPnUu"
      },
      "execution_count": null,
      "outputs": []
    },
    {
      "cell_type": "code",
      "source": [
        "enc = tiktoken.get_encoding(\"o200k_base\")\n",
        "news_enc = enc.encode(news_all_in_one)\n",
        "len(news_enc)"
      ],
      "metadata": {
        "id": "cXN20TryPLEd"
      },
      "execution_count": null,
      "outputs": []
    },
    {
      "cell_type": "code",
      "source": [
        "news_enc[:20]"
      ],
      "metadata": {
        "id": "_XHOTnS6RS19"
      },
      "execution_count": null,
      "outputs": []
    }
  ]
}